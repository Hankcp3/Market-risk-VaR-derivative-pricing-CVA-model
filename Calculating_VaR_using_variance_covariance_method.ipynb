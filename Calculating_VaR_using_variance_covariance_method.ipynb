{
  "nbformat": 4,
  "nbformat_minor": 0,
  "metadata": {
    "colab": {
      "provenance": [],
      "collapsed_sections": []
    },
    "kernelspec": {
      "name": "python3",
      "display_name": "Python 3"
    },
    "language_info": {
      "name": "python"
    }
  },
  "cells": [
    {
      "cell_type": "markdown",
      "source": [
        "Value at risk (VaR) is a statistic used to try and quantify the level of financial risk within a firm or portfolio over a specified time frame. VaR provides an estimate of the maximum loss from a given position or portfolio over a period of time, and you can calculate it across various confidence levels.\n",
        "\n",
        "\"We have a portfolio VaR of 250,000 USD over the next month at 95% confidence\"\n",
        "This means that, with 95% confidence, we can say that the portfolio's loss will not exceed 250,000 USD in a month\n",
        "\n",
        "##we use variance covariance method\n",
        "the variance-covariance method looks at historical price movements (standard deviation, mean price) of a given equity or portfolio of equities over a specified lookback period, and then uses probability theory to calculate the maximum loss within your specified confidence interval.\n",
        "\n",
        "(Modifications can be made to VaR to account for different distributions, but here we'll focus on the standard VaR calculation)\n",
        "\n",
        "VaR is best used for considering loss in standard markets, and is not well-suited for extreme/outlier events."
      ],
      "metadata": {
        "id": "ErS_tFmbl_cn"
      }
    },
    {
      "cell_type": "code",
      "source": [
        "!pip install yfinance"
      ],
      "metadata": {
        "colab": {
          "base_uri": "https://localhost:8080/",
          "height": 520
        },
        "id": "Jyzoi8uNqGVN",
        "outputId": "1e7df9ad-584e-4234-d743-780ebe946a02"
      },
      "execution_count": 7,
      "outputs": [
        {
          "output_type": "stream",
          "name": "stdout",
          "text": [
            "Looking in indexes: https://pypi.org/simple, https://us-python.pkg.dev/colab-wheels/public/simple/\n",
            "Collecting yfinance\n",
            "  Downloading yfinance-0.1.77-py2.py3-none-any.whl (28 kB)\n",
            "Requirement already satisfied: lxml>=4.5.1 in /usr/local/lib/python3.7/dist-packages (from yfinance) (4.9.1)\n",
            "Requirement already satisfied: appdirs>=1.4.4 in /usr/local/lib/python3.7/dist-packages (from yfinance) (1.4.4)\n",
            "Requirement already satisfied: pandas>=0.24.0 in /usr/local/lib/python3.7/dist-packages (from yfinance) (1.3.5)\n",
            "Requirement already satisfied: numpy>=1.15 in /usr/local/lib/python3.7/dist-packages (from yfinance) (1.21.6)\n",
            "Requirement already satisfied: multitasking>=0.0.7 in /usr/local/lib/python3.7/dist-packages (from yfinance) (0.0.11)\n",
            "Collecting requests>=2.26\n",
            "  Downloading requests-2.28.1-py3-none-any.whl (62 kB)\n",
            "\u001b[K     |████████████████████████████████| 62 kB 1.6 MB/s \n",
            "\u001b[?25hRequirement already satisfied: pytz>=2017.3 in /usr/local/lib/python3.7/dist-packages (from pandas>=0.24.0->yfinance) (2022.4)\n",
            "Requirement already satisfied: python-dateutil>=2.7.3 in /usr/local/lib/python3.7/dist-packages (from pandas>=0.24.0->yfinance) (2.8.2)\n",
            "Requirement already satisfied: six>=1.5 in /usr/local/lib/python3.7/dist-packages (from python-dateutil>=2.7.3->pandas>=0.24.0->yfinance) (1.15.0)\n",
            "Requirement already satisfied: charset-normalizer<3,>=2 in /usr/local/lib/python3.7/dist-packages (from requests>=2.26->yfinance) (2.1.1)\n",
            "Requirement already satisfied: idna<4,>=2.5 in /usr/local/lib/python3.7/dist-packages (from requests>=2.26->yfinance) (2.10)\n",
            "Requirement already satisfied: certifi>=2017.4.17 in /usr/local/lib/python3.7/dist-packages (from requests>=2.26->yfinance) (2022.9.24)\n",
            "Requirement already satisfied: urllib3<1.27,>=1.21.1 in /usr/local/lib/python3.7/dist-packages (from requests>=2.26->yfinance) (1.24.3)\n",
            "Installing collected packages: requests, yfinance\n",
            "  Attempting uninstall: requests\n",
            "    Found existing installation: requests 2.23.0\n",
            "    Uninstalling requests-2.23.0:\n",
            "      Successfully uninstalled requests-2.23.0\n",
            "Successfully installed requests-2.28.1 yfinance-0.1.77\n"
          ]
        },
        {
          "output_type": "display_data",
          "data": {
            "application/vnd.colab-display-data+json": {
              "pip_warning": {
                "packages": [
                  "requests"
                ]
              }
            }
          },
          "metadata": {}
        }
      ]
    },
    {
      "cell_type": "code",
      "source": [],
      "metadata": {
        "id": "FwqLQAVqwFz4"
      },
      "execution_count": null,
      "outputs": []
    },
    {
      "cell_type": "code",
      "source": [
        "import pandas as pd\n",
        "from pandas_datareader import data as pdr\n",
        "import yfinance as yf\n",
        "import numpy as np\n",
        "from matplotlib import pyplot as plt\n",
        "import datetime as dt\n"
      ],
      "metadata": {
        "id": "ywfHzRo1l8Hk"
      },
      "execution_count": 33,
      "outputs": []
    },
    {
      "cell_type": "markdown",
      "source": [
        "#create portfolio"
      ],
      "metadata": {
        "id": "wuHqbO6CtBH_"
      }
    },
    {
      "cell_type": "code",
      "source": [
        "# Create our portfolio of equities\n",
        "tickers = ['AAPL','MSFT', 'C', 'DIS']\n",
        "\n",
        "# Set the investment weights (I arbitrarily picked for example)\n",
        "weights = np.array([.25, .3, .15, .3])\n",
        "\n",
        "# Set an initial investment level\n",
        "initial_investment = 1000000\n",
        "\n",
        "# Download closing prices\n",
        "data = yf.download(tickers, start=\"2018-01-01\", end=dt.date.today())['Close']\n",
        "\n",
        "#From the closing prices, calculate periodic returns\n",
        "returns = data.pct_change()\n",
        "\n",
        "returns.tail()"
      ],
      "metadata": {
        "colab": {
          "base_uri": "https://localhost:8080/",
          "height": 255
        },
        "id": "1S_3D48Wpjbe",
        "outputId": "3838187b-861b-4ff2-e5e5-e9c5c723c950"
      },
      "execution_count": 10,
      "outputs": [
        {
          "output_type": "stream",
          "name": "stdout",
          "text": [
            "[*********************100%***********************]  4 of 4 completed\n"
          ]
        },
        {
          "output_type": "execute_result",
          "data": {
            "text/plain": [
              "                               AAPL         C       DIS      MSFT\n",
              "Date                                                             \n",
              "2022-10-11 00:00:00-04:00 -0.010255 -0.027644 -0.021648 -0.016750\n",
              "2022-10-12 00:00:00-04:00 -0.004605  0.009642  0.003330  0.001508\n",
              "2022-10-13 00:00:00-04:00  0.033613  0.051665  0.034579  0.037608\n",
              "2022-10-14 00:00:00-04:00 -0.032240  0.006519 -0.022661 -0.024249\n",
              "2022-10-17 00:00:00-04:00  0.029123  0.008328  0.030492  0.039246"
            ],
            "text/html": [
              "\n",
              "  <div id=\"df-407f2ddf-c0cf-43fb-b168-5c5dcb112a10\">\n",
              "    <div class=\"colab-df-container\">\n",
              "      <div>\n",
              "<style scoped>\n",
              "    .dataframe tbody tr th:only-of-type {\n",
              "        vertical-align: middle;\n",
              "    }\n",
              "\n",
              "    .dataframe tbody tr th {\n",
              "        vertical-align: top;\n",
              "    }\n",
              "\n",
              "    .dataframe thead th {\n",
              "        text-align: right;\n",
              "    }\n",
              "</style>\n",
              "<table border=\"1\" class=\"dataframe\">\n",
              "  <thead>\n",
              "    <tr style=\"text-align: right;\">\n",
              "      <th></th>\n",
              "      <th>AAPL</th>\n",
              "      <th>C</th>\n",
              "      <th>DIS</th>\n",
              "      <th>MSFT</th>\n",
              "    </tr>\n",
              "    <tr>\n",
              "      <th>Date</th>\n",
              "      <th></th>\n",
              "      <th></th>\n",
              "      <th></th>\n",
              "      <th></th>\n",
              "    </tr>\n",
              "  </thead>\n",
              "  <tbody>\n",
              "    <tr>\n",
              "      <th>2022-10-11 00:00:00-04:00</th>\n",
              "      <td>-0.010255</td>\n",
              "      <td>-0.027644</td>\n",
              "      <td>-0.021648</td>\n",
              "      <td>-0.016750</td>\n",
              "    </tr>\n",
              "    <tr>\n",
              "      <th>2022-10-12 00:00:00-04:00</th>\n",
              "      <td>-0.004605</td>\n",
              "      <td>0.009642</td>\n",
              "      <td>0.003330</td>\n",
              "      <td>0.001508</td>\n",
              "    </tr>\n",
              "    <tr>\n",
              "      <th>2022-10-13 00:00:00-04:00</th>\n",
              "      <td>0.033613</td>\n",
              "      <td>0.051665</td>\n",
              "      <td>0.034579</td>\n",
              "      <td>0.037608</td>\n",
              "    </tr>\n",
              "    <tr>\n",
              "      <th>2022-10-14 00:00:00-04:00</th>\n",
              "      <td>-0.032240</td>\n",
              "      <td>0.006519</td>\n",
              "      <td>-0.022661</td>\n",
              "      <td>-0.024249</td>\n",
              "    </tr>\n",
              "    <tr>\n",
              "      <th>2022-10-17 00:00:00-04:00</th>\n",
              "      <td>0.029123</td>\n",
              "      <td>0.008328</td>\n",
              "      <td>0.030492</td>\n",
              "      <td>0.039246</td>\n",
              "    </tr>\n",
              "  </tbody>\n",
              "</table>\n",
              "</div>\n",
              "      <button class=\"colab-df-convert\" onclick=\"convertToInteractive('df-407f2ddf-c0cf-43fb-b168-5c5dcb112a10')\"\n",
              "              title=\"Convert this dataframe to an interactive table.\"\n",
              "              style=\"display:none;\">\n",
              "        \n",
              "  <svg xmlns=\"http://www.w3.org/2000/svg\" height=\"24px\"viewBox=\"0 0 24 24\"\n",
              "       width=\"24px\">\n",
              "    <path d=\"M0 0h24v24H0V0z\" fill=\"none\"/>\n",
              "    <path d=\"M18.56 5.44l.94 2.06.94-2.06 2.06-.94-2.06-.94-.94-2.06-.94 2.06-2.06.94zm-11 1L8.5 8.5l.94-2.06 2.06-.94-2.06-.94L8.5 2.5l-.94 2.06-2.06.94zm10 10l.94 2.06.94-2.06 2.06-.94-2.06-.94-.94-2.06-.94 2.06-2.06.94z\"/><path d=\"M17.41 7.96l-1.37-1.37c-.4-.4-.92-.59-1.43-.59-.52 0-1.04.2-1.43.59L10.3 9.45l-7.72 7.72c-.78.78-.78 2.05 0 2.83L4 21.41c.39.39.9.59 1.41.59.51 0 1.02-.2 1.41-.59l7.78-7.78 2.81-2.81c.8-.78.8-2.07 0-2.86zM5.41 20L4 18.59l7.72-7.72 1.47 1.35L5.41 20z\"/>\n",
              "  </svg>\n",
              "      </button>\n",
              "      \n",
              "  <style>\n",
              "    .colab-df-container {\n",
              "      display:flex;\n",
              "      flex-wrap:wrap;\n",
              "      gap: 12px;\n",
              "    }\n",
              "\n",
              "    .colab-df-convert {\n",
              "      background-color: #E8F0FE;\n",
              "      border: none;\n",
              "      border-radius: 50%;\n",
              "      cursor: pointer;\n",
              "      display: none;\n",
              "      fill: #1967D2;\n",
              "      height: 32px;\n",
              "      padding: 0 0 0 0;\n",
              "      width: 32px;\n",
              "    }\n",
              "\n",
              "    .colab-df-convert:hover {\n",
              "      background-color: #E2EBFA;\n",
              "      box-shadow: 0px 1px 2px rgba(60, 64, 67, 0.3), 0px 1px 3px 1px rgba(60, 64, 67, 0.15);\n",
              "      fill: #174EA6;\n",
              "    }\n",
              "\n",
              "    [theme=dark] .colab-df-convert {\n",
              "      background-color: #3B4455;\n",
              "      fill: #D2E3FC;\n",
              "    }\n",
              "\n",
              "    [theme=dark] .colab-df-convert:hover {\n",
              "      background-color: #434B5C;\n",
              "      box-shadow: 0px 1px 3px 1px rgba(0, 0, 0, 0.15);\n",
              "      filter: drop-shadow(0px 1px 2px rgba(0, 0, 0, 0.3));\n",
              "      fill: #FFFFFF;\n",
              "    }\n",
              "  </style>\n",
              "\n",
              "      <script>\n",
              "        const buttonEl =\n",
              "          document.querySelector('#df-407f2ddf-c0cf-43fb-b168-5c5dcb112a10 button.colab-df-convert');\n",
              "        buttonEl.style.display =\n",
              "          google.colab.kernel.accessAllowed ? 'block' : 'none';\n",
              "\n",
              "        async function convertToInteractive(key) {\n",
              "          const element = document.querySelector('#df-407f2ddf-c0cf-43fb-b168-5c5dcb112a10');\n",
              "          const dataTable =\n",
              "            await google.colab.kernel.invokeFunction('convertToInteractive',\n",
              "                                                     [key], {});\n",
              "          if (!dataTable) return;\n",
              "\n",
              "          const docLinkHtml = 'Like what you see? Visit the ' +\n",
              "            '<a target=\"_blank\" href=https://colab.research.google.com/notebooks/data_table.ipynb>data table notebook</a>'\n",
              "            + ' to learn more about interactive tables.';\n",
              "          element.innerHTML = '';\n",
              "          dataTable['output_type'] = 'display_data';\n",
              "          await google.colab.output.renderOutput(dataTable, element);\n",
              "          const docLink = document.createElement('div');\n",
              "          docLink.innerHTML = docLinkHtml;\n",
              "          element.appendChild(docLink);\n",
              "        }\n",
              "      </script>\n",
              "    </div>\n",
              "  </div>\n",
              "  "
            ]
          },
          "metadata": {},
          "execution_count": 10
        }
      ]
    },
    {
      "cell_type": "code",
      "source": [
        "returns"
      ],
      "metadata": {
        "colab": {
          "base_uri": "https://localhost:8080/",
          "height": 455
        },
        "id": "WdpTtLhBrHKI",
        "outputId": "4493befe-b8f4-460a-9d04-01f0d6d79df4"
      },
      "execution_count": 14,
      "outputs": [
        {
          "output_type": "execute_result",
          "data": {
            "text/plain": [
              "                               AAPL         C       DIS      MSFT\n",
              "Date                                                             \n",
              "2018-01-02 00:00:00-05:00       NaN       NaN       NaN       NaN\n",
              "2018-01-03 00:00:00-05:00 -0.000174  0.003093  0.004293  0.004654\n",
              "2018-01-04 00:00:00-05:00  0.004645  0.012334 -0.000445  0.008801\n",
              "2018-01-05 00:00:00-05:00  0.011385 -0.001324 -0.005435  0.012398\n",
              "2018-01-08 00:00:00-05:00 -0.003714 -0.011670 -0.014334  0.001020\n",
              "...                             ...       ...       ...       ...\n",
              "2022-10-11 00:00:00-04:00 -0.010255 -0.027644 -0.021648 -0.016750\n",
              "2022-10-12 00:00:00-04:00 -0.004605  0.009642  0.003330  0.001508\n",
              "2022-10-13 00:00:00-04:00  0.033613  0.051665  0.034579  0.037608\n",
              "2022-10-14 00:00:00-04:00 -0.032240  0.006519 -0.022661 -0.024249\n",
              "2022-10-17 00:00:00-04:00  0.029123  0.008328  0.030492  0.039246\n",
              "\n",
              "[1207 rows x 4 columns]"
            ],
            "text/html": [
              "\n",
              "  <div id=\"df-483a12ea-bd15-4498-bcfd-7de915a7cb95\">\n",
              "    <div class=\"colab-df-container\">\n",
              "      <div>\n",
              "<style scoped>\n",
              "    .dataframe tbody tr th:only-of-type {\n",
              "        vertical-align: middle;\n",
              "    }\n",
              "\n",
              "    .dataframe tbody tr th {\n",
              "        vertical-align: top;\n",
              "    }\n",
              "\n",
              "    .dataframe thead th {\n",
              "        text-align: right;\n",
              "    }\n",
              "</style>\n",
              "<table border=\"1\" class=\"dataframe\">\n",
              "  <thead>\n",
              "    <tr style=\"text-align: right;\">\n",
              "      <th></th>\n",
              "      <th>AAPL</th>\n",
              "      <th>C</th>\n",
              "      <th>DIS</th>\n",
              "      <th>MSFT</th>\n",
              "    </tr>\n",
              "    <tr>\n",
              "      <th>Date</th>\n",
              "      <th></th>\n",
              "      <th></th>\n",
              "      <th></th>\n",
              "      <th></th>\n",
              "    </tr>\n",
              "  </thead>\n",
              "  <tbody>\n",
              "    <tr>\n",
              "      <th>2018-01-02 00:00:00-05:00</th>\n",
              "      <td>NaN</td>\n",
              "      <td>NaN</td>\n",
              "      <td>NaN</td>\n",
              "      <td>NaN</td>\n",
              "    </tr>\n",
              "    <tr>\n",
              "      <th>2018-01-03 00:00:00-05:00</th>\n",
              "      <td>-0.000174</td>\n",
              "      <td>0.003093</td>\n",
              "      <td>0.004293</td>\n",
              "      <td>0.004654</td>\n",
              "    </tr>\n",
              "    <tr>\n",
              "      <th>2018-01-04 00:00:00-05:00</th>\n",
              "      <td>0.004645</td>\n",
              "      <td>0.012334</td>\n",
              "      <td>-0.000445</td>\n",
              "      <td>0.008801</td>\n",
              "    </tr>\n",
              "    <tr>\n",
              "      <th>2018-01-05 00:00:00-05:00</th>\n",
              "      <td>0.011385</td>\n",
              "      <td>-0.001324</td>\n",
              "      <td>-0.005435</td>\n",
              "      <td>0.012398</td>\n",
              "    </tr>\n",
              "    <tr>\n",
              "      <th>2018-01-08 00:00:00-05:00</th>\n",
              "      <td>-0.003714</td>\n",
              "      <td>-0.011670</td>\n",
              "      <td>-0.014334</td>\n",
              "      <td>0.001020</td>\n",
              "    </tr>\n",
              "    <tr>\n",
              "      <th>...</th>\n",
              "      <td>...</td>\n",
              "      <td>...</td>\n",
              "      <td>...</td>\n",
              "      <td>...</td>\n",
              "    </tr>\n",
              "    <tr>\n",
              "      <th>2022-10-11 00:00:00-04:00</th>\n",
              "      <td>-0.010255</td>\n",
              "      <td>-0.027644</td>\n",
              "      <td>-0.021648</td>\n",
              "      <td>-0.016750</td>\n",
              "    </tr>\n",
              "    <tr>\n",
              "      <th>2022-10-12 00:00:00-04:00</th>\n",
              "      <td>-0.004605</td>\n",
              "      <td>0.009642</td>\n",
              "      <td>0.003330</td>\n",
              "      <td>0.001508</td>\n",
              "    </tr>\n",
              "    <tr>\n",
              "      <th>2022-10-13 00:00:00-04:00</th>\n",
              "      <td>0.033613</td>\n",
              "      <td>0.051665</td>\n",
              "      <td>0.034579</td>\n",
              "      <td>0.037608</td>\n",
              "    </tr>\n",
              "    <tr>\n",
              "      <th>2022-10-14 00:00:00-04:00</th>\n",
              "      <td>-0.032240</td>\n",
              "      <td>0.006519</td>\n",
              "      <td>-0.022661</td>\n",
              "      <td>-0.024249</td>\n",
              "    </tr>\n",
              "    <tr>\n",
              "      <th>2022-10-17 00:00:00-04:00</th>\n",
              "      <td>0.029123</td>\n",
              "      <td>0.008328</td>\n",
              "      <td>0.030492</td>\n",
              "      <td>0.039246</td>\n",
              "    </tr>\n",
              "  </tbody>\n",
              "</table>\n",
              "<p>1207 rows × 4 columns</p>\n",
              "</div>\n",
              "      <button class=\"colab-df-convert\" onclick=\"convertToInteractive('df-483a12ea-bd15-4498-bcfd-7de915a7cb95')\"\n",
              "              title=\"Convert this dataframe to an interactive table.\"\n",
              "              style=\"display:none;\">\n",
              "        \n",
              "  <svg xmlns=\"http://www.w3.org/2000/svg\" height=\"24px\"viewBox=\"0 0 24 24\"\n",
              "       width=\"24px\">\n",
              "    <path d=\"M0 0h24v24H0V0z\" fill=\"none\"/>\n",
              "    <path d=\"M18.56 5.44l.94 2.06.94-2.06 2.06-.94-2.06-.94-.94-2.06-.94 2.06-2.06.94zm-11 1L8.5 8.5l.94-2.06 2.06-.94-2.06-.94L8.5 2.5l-.94 2.06-2.06.94zm10 10l.94 2.06.94-2.06 2.06-.94-2.06-.94-.94-2.06-.94 2.06-2.06.94z\"/><path d=\"M17.41 7.96l-1.37-1.37c-.4-.4-.92-.59-1.43-.59-.52 0-1.04.2-1.43.59L10.3 9.45l-7.72 7.72c-.78.78-.78 2.05 0 2.83L4 21.41c.39.39.9.59 1.41.59.51 0 1.02-.2 1.41-.59l7.78-7.78 2.81-2.81c.8-.78.8-2.07 0-2.86zM5.41 20L4 18.59l7.72-7.72 1.47 1.35L5.41 20z\"/>\n",
              "  </svg>\n",
              "      </button>\n",
              "      \n",
              "  <style>\n",
              "    .colab-df-container {\n",
              "      display:flex;\n",
              "      flex-wrap:wrap;\n",
              "      gap: 12px;\n",
              "    }\n",
              "\n",
              "    .colab-df-convert {\n",
              "      background-color: #E8F0FE;\n",
              "      border: none;\n",
              "      border-radius: 50%;\n",
              "      cursor: pointer;\n",
              "      display: none;\n",
              "      fill: #1967D2;\n",
              "      height: 32px;\n",
              "      padding: 0 0 0 0;\n",
              "      width: 32px;\n",
              "    }\n",
              "\n",
              "    .colab-df-convert:hover {\n",
              "      background-color: #E2EBFA;\n",
              "      box-shadow: 0px 1px 2px rgba(60, 64, 67, 0.3), 0px 1px 3px 1px rgba(60, 64, 67, 0.15);\n",
              "      fill: #174EA6;\n",
              "    }\n",
              "\n",
              "    [theme=dark] .colab-df-convert {\n",
              "      background-color: #3B4455;\n",
              "      fill: #D2E3FC;\n",
              "    }\n",
              "\n",
              "    [theme=dark] .colab-df-convert:hover {\n",
              "      background-color: #434B5C;\n",
              "      box-shadow: 0px 1px 3px 1px rgba(0, 0, 0, 0.15);\n",
              "      filter: drop-shadow(0px 1px 2px rgba(0, 0, 0, 0.3));\n",
              "      fill: #FFFFFF;\n",
              "    }\n",
              "  </style>\n",
              "\n",
              "      <script>\n",
              "        const buttonEl =\n",
              "          document.querySelector('#df-483a12ea-bd15-4498-bcfd-7de915a7cb95 button.colab-df-convert');\n",
              "        buttonEl.style.display =\n",
              "          google.colab.kernel.accessAllowed ? 'block' : 'none';\n",
              "\n",
              "        async function convertToInteractive(key) {\n",
              "          const element = document.querySelector('#df-483a12ea-bd15-4498-bcfd-7de915a7cb95');\n",
              "          const dataTable =\n",
              "            await google.colab.kernel.invokeFunction('convertToInteractive',\n",
              "                                                     [key], {});\n",
              "          if (!dataTable) return;\n",
              "\n",
              "          const docLinkHtml = 'Like what you see? Visit the ' +\n",
              "            '<a target=\"_blank\" href=https://colab.research.google.com/notebooks/data_table.ipynb>data table notebook</a>'\n",
              "            + ' to learn more about interactive tables.';\n",
              "          element.innerHTML = '';\n",
              "          dataTable['output_type'] = 'display_data';\n",
              "          await google.colab.output.renderOutput(dataTable, element);\n",
              "          const docLink = document.createElement('div');\n",
              "          docLink.innerHTML = docLinkHtml;\n",
              "          element.appendChild(docLink);\n",
              "        }\n",
              "      </script>\n",
              "    </div>\n",
              "  </div>\n",
              "  "
            ]
          },
          "metadata": {},
          "execution_count": 14
        }
      ]
    },
    {
      "cell_type": "markdown",
      "source": [
        "#calculate portfolio mean and variance"
      ],
      "metadata": {
        "id": "fzAsC1VEtFvJ"
      }
    },
    {
      "cell_type": "code",
      "source": [
        "# Generate Var-Cov matrix\n",
        "cov_matrix = returns.cov()\n",
        "cov_matrix\n",
        "#This will allow us to calculate the standard deviation and mean of returns across the entire portfolio."
      ],
      "metadata": {
        "colab": {
          "base_uri": "https://localhost:8080/",
          "height": 175
        },
        "id": "buo34mr3pjgC",
        "outputId": "a62b1658-99de-48ed-8188-b7e41144b472"
      },
      "execution_count": 12,
      "outputs": [
        {
          "output_type": "execute_result",
          "data": {
            "text/plain": [
              "          AAPL         C       DIS      MSFT\n",
              "AAPL  0.000436  0.000245  0.000201  0.000310\n",
              "C     0.000245  0.000610  0.000307  0.000236\n",
              "DIS   0.000201  0.000307  0.000406  0.000206\n",
              "MSFT  0.000310  0.000236  0.000206  0.000373"
            ],
            "text/html": [
              "\n",
              "  <div id=\"df-02732f1b-b618-427a-b62f-2df5119e6056\">\n",
              "    <div class=\"colab-df-container\">\n",
              "      <div>\n",
              "<style scoped>\n",
              "    .dataframe tbody tr th:only-of-type {\n",
              "        vertical-align: middle;\n",
              "    }\n",
              "\n",
              "    .dataframe tbody tr th {\n",
              "        vertical-align: top;\n",
              "    }\n",
              "\n",
              "    .dataframe thead th {\n",
              "        text-align: right;\n",
              "    }\n",
              "</style>\n",
              "<table border=\"1\" class=\"dataframe\">\n",
              "  <thead>\n",
              "    <tr style=\"text-align: right;\">\n",
              "      <th></th>\n",
              "      <th>AAPL</th>\n",
              "      <th>C</th>\n",
              "      <th>DIS</th>\n",
              "      <th>MSFT</th>\n",
              "    </tr>\n",
              "  </thead>\n",
              "  <tbody>\n",
              "    <tr>\n",
              "      <th>AAPL</th>\n",
              "      <td>0.000436</td>\n",
              "      <td>0.000245</td>\n",
              "      <td>0.000201</td>\n",
              "      <td>0.000310</td>\n",
              "    </tr>\n",
              "    <tr>\n",
              "      <th>C</th>\n",
              "      <td>0.000245</td>\n",
              "      <td>0.000610</td>\n",
              "      <td>0.000307</td>\n",
              "      <td>0.000236</td>\n",
              "    </tr>\n",
              "    <tr>\n",
              "      <th>DIS</th>\n",
              "      <td>0.000201</td>\n",
              "      <td>0.000307</td>\n",
              "      <td>0.000406</td>\n",
              "      <td>0.000206</td>\n",
              "    </tr>\n",
              "    <tr>\n",
              "      <th>MSFT</th>\n",
              "      <td>0.000310</td>\n",
              "      <td>0.000236</td>\n",
              "      <td>0.000206</td>\n",
              "      <td>0.000373</td>\n",
              "    </tr>\n",
              "  </tbody>\n",
              "</table>\n",
              "</div>\n",
              "      <button class=\"colab-df-convert\" onclick=\"convertToInteractive('df-02732f1b-b618-427a-b62f-2df5119e6056')\"\n",
              "              title=\"Convert this dataframe to an interactive table.\"\n",
              "              style=\"display:none;\">\n",
              "        \n",
              "  <svg xmlns=\"http://www.w3.org/2000/svg\" height=\"24px\"viewBox=\"0 0 24 24\"\n",
              "       width=\"24px\">\n",
              "    <path d=\"M0 0h24v24H0V0z\" fill=\"none\"/>\n",
              "    <path d=\"M18.56 5.44l.94 2.06.94-2.06 2.06-.94-2.06-.94-.94-2.06-.94 2.06-2.06.94zm-11 1L8.5 8.5l.94-2.06 2.06-.94-2.06-.94L8.5 2.5l-.94 2.06-2.06.94zm10 10l.94 2.06.94-2.06 2.06-.94-2.06-.94-.94-2.06-.94 2.06-2.06.94z\"/><path d=\"M17.41 7.96l-1.37-1.37c-.4-.4-.92-.59-1.43-.59-.52 0-1.04.2-1.43.59L10.3 9.45l-7.72 7.72c-.78.78-.78 2.05 0 2.83L4 21.41c.39.39.9.59 1.41.59.51 0 1.02-.2 1.41-.59l7.78-7.78 2.81-2.81c.8-.78.8-2.07 0-2.86zM5.41 20L4 18.59l7.72-7.72 1.47 1.35L5.41 20z\"/>\n",
              "  </svg>\n",
              "      </button>\n",
              "      \n",
              "  <style>\n",
              "    .colab-df-container {\n",
              "      display:flex;\n",
              "      flex-wrap:wrap;\n",
              "      gap: 12px;\n",
              "    }\n",
              "\n",
              "    .colab-df-convert {\n",
              "      background-color: #E8F0FE;\n",
              "      border: none;\n",
              "      border-radius: 50%;\n",
              "      cursor: pointer;\n",
              "      display: none;\n",
              "      fill: #1967D2;\n",
              "      height: 32px;\n",
              "      padding: 0 0 0 0;\n",
              "      width: 32px;\n",
              "    }\n",
              "\n",
              "    .colab-df-convert:hover {\n",
              "      background-color: #E2EBFA;\n",
              "      box-shadow: 0px 1px 2px rgba(60, 64, 67, 0.3), 0px 1px 3px 1px rgba(60, 64, 67, 0.15);\n",
              "      fill: #174EA6;\n",
              "    }\n",
              "\n",
              "    [theme=dark] .colab-df-convert {\n",
              "      background-color: #3B4455;\n",
              "      fill: #D2E3FC;\n",
              "    }\n",
              "\n",
              "    [theme=dark] .colab-df-convert:hover {\n",
              "      background-color: #434B5C;\n",
              "      box-shadow: 0px 1px 3px 1px rgba(0, 0, 0, 0.15);\n",
              "      filter: drop-shadow(0px 1px 2px rgba(0, 0, 0, 0.3));\n",
              "      fill: #FFFFFF;\n",
              "    }\n",
              "  </style>\n",
              "\n",
              "      <script>\n",
              "        const buttonEl =\n",
              "          document.querySelector('#df-02732f1b-b618-427a-b62f-2df5119e6056 button.colab-df-convert');\n",
              "        buttonEl.style.display =\n",
              "          google.colab.kernel.accessAllowed ? 'block' : 'none';\n",
              "\n",
              "        async function convertToInteractive(key) {\n",
              "          const element = document.querySelector('#df-02732f1b-b618-427a-b62f-2df5119e6056');\n",
              "          const dataTable =\n",
              "            await google.colab.kernel.invokeFunction('convertToInteractive',\n",
              "                                                     [key], {});\n",
              "          if (!dataTable) return;\n",
              "\n",
              "          const docLinkHtml = 'Like what you see? Visit the ' +\n",
              "            '<a target=\"_blank\" href=https://colab.research.google.com/notebooks/data_table.ipynb>data table notebook</a>'\n",
              "            + ' to learn more about interactive tables.';\n",
              "          element.innerHTML = '';\n",
              "          dataTable['output_type'] = 'display_data';\n",
              "          await google.colab.output.renderOutput(dataTable, element);\n",
              "          const docLink = document.createElement('div');\n",
              "          docLink.innerHTML = docLinkHtml;\n",
              "          element.appendChild(docLink);\n",
              "        }\n",
              "      </script>\n",
              "    </div>\n",
              "  </div>\n",
              "  "
            ]
          },
          "metadata": {},
          "execution_count": 12
        }
      ]
    },
    {
      "cell_type": "code",
      "source": [
        "#Calculate the portfolio mean and standard deviation"
      ],
      "metadata": {
        "id": "USg7jcjTpjil"
      },
      "execution_count": 15,
      "outputs": []
    },
    {
      "cell_type": "code",
      "source": [
        "# Calculate mean returns for each stock\n",
        "avg_rets = returns.mean()"
      ],
      "metadata": {
        "id": "TW75YmbEpjlF"
      },
      "execution_count": 16,
      "outputs": []
    },
    {
      "cell_type": "code",
      "source": [
        "avg_rets"
      ],
      "metadata": {
        "colab": {
          "base_uri": "https://localhost:8080/"
        },
        "id": "2OIot7nosiST",
        "outputId": "3bf574a6-cf87-4e0a-a34a-6c9762ffee7a"
      },
      "execution_count": 23,
      "outputs": [
        {
          "output_type": "execute_result",
          "data": {
            "text/plain": [
              "AAPL    0.001210\n",
              "C      -0.000137\n",
              "DIS     0.000086\n",
              "MSFT    0.001030\n",
              "dtype: float64"
            ]
          },
          "metadata": {},
          "execution_count": 23
        }
      ]
    },
    {
      "cell_type": "code",
      "source": [
        "# Calculate mean returns for portfolio overall using dot product\n",
        "port_mean = avg_rets.dot(weights)"
      ],
      "metadata": {
        "id": "e_V3QiqJl_BM"
      },
      "execution_count": 18,
      "outputs": []
    },
    {
      "cell_type": "code",
      "source": [
        "# Calculate portfolio standard deviation\n",
        "port_stdev = np.sqrt(weights.T.dot(cov_matrix).dot(weights))"
      ],
      "metadata": {
        "id": "hdS7Sgtsl_IS"
      },
      "execution_count": 20,
      "outputs": []
    },
    {
      "cell_type": "code",
      "source": [
        "# Calculate mean of investment\n",
        "mean_investment = (1+port_mean) * initial_investment"
      ],
      "metadata": {
        "id": "UXscsPbgr6vl"
      },
      "execution_count": 21,
      "outputs": []
    },
    {
      "cell_type": "code",
      "source": [
        "mean_investment"
      ],
      "metadata": {
        "colab": {
          "base_uri": "https://localhost:8080/"
        },
        "id": "bqFeUTFCr6yR",
        "outputId": "860431f4-056c-452e-fc31-a0bd54dd8d30"
      },
      "execution_count": 22,
      "outputs": [
        {
          "output_type": "execute_result",
          "data": {
            "text/plain": [
              "1000583.346233173"
            ]
          },
          "metadata": {},
          "execution_count": 22
        }
      ]
    },
    {
      "cell_type": "code",
      "source": [
        "# Calculate standard deviation of investmnet\n",
        "stdev_investment = initial_investment * port_stdev"
      ],
      "metadata": {
        "id": "cF2wGxORtZ8E"
      },
      "execution_count": 25,
      "outputs": []
    },
    {
      "cell_type": "markdown",
      "source": [
        "#Calculate the inverse of the normal cumulative distribution (PPF) with a specified confidence interval, standard deviation, and mean"
      ],
      "metadata": {
        "id": "w1WatOrPsz0Y"
      }
    },
    {
      "cell_type": "code",
      "source": [
        "# Select our confidence interval (I'll choose 95% here)\n",
        "conf_level1 = 0.05\n",
        "\n",
        "# Using SciPy ppf method to generate values for the\n",
        "# inverse cumulative distribution function to a normal distribution\n",
        "# Plugging in the mean, standard deviation of our portfolio\n",
        "# as calculated above\n",
        "# https://docs.scipy.org/doc/scipy/reference/generated/scipy.stats.norm.html\n",
        "from scipy.stats import norm\n",
        "cutoff1 = norm.ppf(conf_level1, mean_investment, stdev_investment)"
      ],
      "metadata": {
        "id": "yC03Ef4Ll_Kb"
      },
      "execution_count": 26,
      "outputs": []
    },
    {
      "cell_type": "code",
      "source": [
        "#5) Estimate the value at risk (VaR) for the portfolio by subtracting the initial investment from the calculation in step 4"
      ],
      "metadata": {
        "id": "0uSo-M5ns2QC"
      },
      "execution_count": 28,
      "outputs": []
    },
    {
      "cell_type": "code",
      "source": [
        "#Finally, we can calculate the VaR at our confidence interval\n",
        "var_1d1 = initial_investment - cutoff1\n",
        "var_1d1\n",
        "\n",
        "#output\n",
        "#22347.7792230231"
      ],
      "metadata": {
        "colab": {
          "base_uri": "https://localhost:8080/"
        },
        "id": "ysrRus6Ms2Sq",
        "outputId": "2d617d81-75ab-482a-db6d-94727aa30b52"
      },
      "execution_count": 29,
      "outputs": [
        {
          "output_type": "execute_result",
          "data": {
            "text/plain": [
              "28457.280679723015"
            ]
          },
          "metadata": {},
          "execution_count": 29
        }
      ]
    },
    {
      "cell_type": "markdown",
      "source": [
        "##Here we are saying with 95% confidence that our portfolio of 1M USD will not exceed losses greater than 22.3k USD over a one day period."
      ],
      "metadata": {
        "id": "K2Ef3D-iuJ8r"
      }
    },
    {
      "cell_type": "markdown",
      "source": [
        "#Value at risk over n-day time period\n",
        "What if we wanted to calculate this over a larger window of time? Below we can easily do that by just taking our 1 day VaR and multiplying it by the square root of the time period (this is due to the fact that the standard deviation of stock returns tends to increase with the square root of time)."
      ],
      "metadata": {
        "id": "ajxTvfIcuWJE"
      }
    },
    {
      "cell_type": "code",
      "source": [
        "# Calculate n Day VaR\n",
        "var_array = []\n",
        "num_days = int(15)\n",
        "for x in range(1, num_days+1):    \n",
        "    var_array.append(np.round(var_1d1 * np.sqrt(x),2))\n",
        "    print(str(x) + \" day VaR @ 95% confidence: \" + str(np.round(var_1d1 * np.sqrt(x),2)))\n",
        "\n",
        "# Build plot\n",
        "plt.xlabel(\"Day #\")\n",
        "plt.ylabel(\"Max portfolio loss (USD)\")\n",
        "plt.title(\"Max portfolio loss (VaR) over 15-day period\")\n",
        "plt.plot(var_array, \"r\")"
      ],
      "metadata": {
        "colab": {
          "base_uri": "https://localhost:8080/",
          "height": 573
        },
        "id": "kRmzE5nDuN0U",
        "outputId": "87b40209-8132-4cb2-9849-9804fa804587"
      },
      "execution_count": 34,
      "outputs": [
        {
          "output_type": "stream",
          "name": "stdout",
          "text": [
            "1 day VaR @ 95% confidence: 28457.28\n",
            "2 day VaR @ 95% confidence: 40244.67\n",
            "3 day VaR @ 95% confidence: 49289.46\n",
            "4 day VaR @ 95% confidence: 56914.56\n",
            "5 day VaR @ 95% confidence: 63632.41\n",
            "6 day VaR @ 95% confidence: 69705.82\n",
            "7 day VaR @ 95% confidence: 75290.89\n",
            "8 day VaR @ 95% confidence: 80489.34\n",
            "9 day VaR @ 95% confidence: 85371.84\n",
            "10 day VaR @ 95% confidence: 89989.82\n",
            "11 day VaR @ 95% confidence: 94382.12\n",
            "12 day VaR @ 95% confidence: 98578.91\n",
            "13 day VaR @ 95% confidence: 102604.18\n",
            "14 day VaR @ 95% confidence: 106477.39\n",
            "15 day VaR @ 95% confidence: 110214.57\n"
          ]
        },
        {
          "output_type": "execute_result",
          "data": {
            "text/plain": [
              "[<matplotlib.lines.Line2D at 0x7fe609f35e90>]"
            ]
          },
          "metadata": {},
          "execution_count": 34
        },
        {
          "output_type": "display_data",
          "data": {
            "text/plain": [
              "<Figure size 432x288 with 1 Axes>"
            ],
            "image/png": "[encoded data removed]"
          },
          "metadata": {
            "needs_background": "light"
          }
        }
      ]
    },
    {
      "cell_type": "markdown",
      "source": [
        "#Checking distributions of our equities against normal distribution\n",
        "we are assuming that the returns of the equities in our portfolio are normally distributed when calculating VaR. Of course, we can't predict that moving forward, but we can at least check how the historical returns have been distributed to help us assess whether VaR is suitable to use for our portfolio."
      ],
      "metadata": {
        "id": "58cTyReZwnar"
      }
    },
    {
      "cell_type": "code",
      "source": [
        "import matplotlib.mlab as mlab\n",
        "import matplotlib.pyplot as plt\n",
        "import scipy"
      ],
      "metadata": {
        "id": "et08nfikuN3A"
      },
      "execution_count": 38,
      "outputs": []
    },
    {
      "cell_type": "code",
      "source": [
        "# Repeat for each equity in portfolio\n",
        "returns['AAPL'].hist(bins=40,density = True,histtype=\"stepfilled\",alpha=0.5)\n",
        "x = np.linspace(port_mean - 3*port_stdev, port_mean+3*port_stdev,100)\n",
        "plt.plot(x, scipy.stats.norm.pdf(x, port_mean, port_stdev), \"r\")\n",
        "plt.title(\"AAPL returns (binned) vs. normal distribution\")\n",
        "plt.show()"
      ],
      "metadata": {
        "colab": {
          "base_uri": "https://localhost:8080/",
          "height": 281
        },
        "id": "h_TpPU9UuN5_",
        "outputId": "a63c7afc-7848-4e4a-e797-9b060723ed0a"
      },
      "execution_count": 41,
      "outputs": [
        {
          "output_type": "display_data",
          "data": {
            "text/plain": [
              "<Figure size 432x288 with 1 Axes>"
            ],
            "image/png": "[encoded data removed]"
          },
          "metadata": {
            "needs_background": "light"
          }
        }
      ]
    },
    {
      "cell_type": "code",
      "source": [],
      "metadata": {
        "id": "EFHT8QIcuN8V"
      },
      "execution_count": null,
      "outputs": []
    },
    {
      "cell_type": "code",
      "source": [],
      "metadata": {
        "id": "4gDTo46duN-1"
      },
      "execution_count": null,
      "outputs": []
    },
    {
      "cell_type": "code",
      "source": [],
      "metadata": {
        "id": "VSBBtCjOuOBP"
      },
      "execution_count": null,
      "outputs": []
    },
    {
      "cell_type": "code",
      "source": [],
      "metadata": {
        "id": "eDhwPQYus2Xc"
      },
      "execution_count": null,
      "outputs": []
    }
  ]
}